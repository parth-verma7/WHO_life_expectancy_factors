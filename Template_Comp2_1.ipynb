{
 "cells": [
  {
   "cell_type": "markdown",
   "metadata": {},
   "source": [
    "# CST4050 - Individual Assessment (comp 2)\n",
    "\n",
    "**Student**:\n",
    "\n",
    "- Name:\n",
    "- Surname:\n",
    "- Student number:\n",
    "- Campus:"
   ]
  },
  {
   "cell_type": "markdown",
   "metadata": {},
   "source": [
    "> **Important**.  \n",
    "Your submission will be mainly evaluated according to your comments and not only according to the submitted code. Keep in mind that a correct code that is not well discussed, well justified and well documented will be badly evaluated.\n",
    "\n",
    "> **How to export your notebook in PDF**.  \n",
    "To export your Notebook in PDF you need to perform the following steps: \n",
    "- Save Jupyter as HTML with \"*File*\"-> \"*Export Notebook As ...*\"-> \"*Export Notebook to HTML*\".\n",
    "- Open the HTML file in your browser. Click *Print*.\n",
    "- Change the destination to \"*Save to PDF*\" and click \"*Save*\"."
   ]
  },
  {
   "cell_type": "markdown",
   "metadata": {},
   "source": [
    "## 1. Loading data and preliminary analysis\n",
    "\n",
    "Load the file `supervised.csv` in Pandas.\n",
    "\n",
    "### 1.1. Checking the target\n",
    "\n",
    "- Examine the *target* attribute, which is the dependent variable `Life_Expectancy`.\n",
    "- Discuss whether the target attribute is numerical or nominal.\n",
    "- Discuss whether the supervised problem is a classification or a regression task.\n",
    "- If the target is numerical, discuss its frequency distribution.\n",
    "- If the target is nominal, discuss whether classes are balanced or not."
   ]
  },
  {
   "cell_type": "markdown",
   "metadata": {},
   "source": [
    "### 1.2. Checking the features \n",
    "\n",
    "- After removing the target, all remaining attributes are your features (independent variables).\n",
    "- Discuss the shape of the feature data, how many rows and columns does it contain?\n",
    "- Discuss whether features are standardised."
   ]
  },
  {
   "cell_type": "markdown",
   "metadata": {},
   "source": [
    "## 2. Training and testing a machine learning pipeline\n",
    "\n",
    "- Propose a machine learning pipeline suited to predict the target, given the available features.\n",
    "- Motivate your choices: why the proposed pipeline among the many?\n",
    "- Explain whether your proposed pipeline standardises the feature data. Motivate your choices.\n",
    "- Explain whether your proposed pipeline transforms feature data and how. Motivate your choices.\n",
    "- Split your data needs into train and test.\n",
    "- Train your supervised learning model.\n",
    "- Show the accuracy of your model by using appropriate unseen data.\n",
    "- Discuss whether you need to compare your accuracy to a baseline.\n",
    "- Discuss whether your final model overfits or underfits."
   ]
  },
  {
   "cell_type": "markdown",
   "metadata": {},
   "source": [
    "## 3. Tuning the proposed machine learning pipeline (*Optional*) \n",
    "\n",
    "- Discuss whether your final feature space is low dimensional or high dimensional.\n",
    "- Explain whether the proposed pipeline requires any fine-tuned phase.\n",
    "- Explain whether your data needs to be split into train and test, k-fold, validation set, or what.\n",
    "- Show how you tune your proposed pipeline and on which portion of the data.\n",
    "- Introduce the hyper-parameters you are tuning. Motivate your choices. Why those hyper-parameters and not others? What's their role in the bias-variance trade-off?\n",
    "- Validate your tuned model.\n",
    "- Discuss whether your final tuned model overfits or underfits.\n",
    "- Compare the accuracy of your final tuned model with the accuracy you got in the previous section (non-tuned model)."
   ]
  },
  {
   "cell_type": "markdown",
   "metadata": {},
   "source": [
    "## 4. Model interpretation (*Optional*)\n",
    "\n",
    "- Explain whether your proposed pipeline is human interpretable.\n",
    "- Discuss whether features contain any multicollinearity and if this is a problem for your model interpretability.\n",
    "- Perform any analysis necessary to show which features are most responsible for generating the final predictions.\n",
    "- Feel free to add visualisations to support your claims.\n",
    "- Feel free to comment on the stability of your findings."
   ]
  },
  {
   "cell_type": "markdown",
   "metadata": {},
   "source": [
    "## 4. Discussion: pros/cons and time complexity of the designed pipeline\n",
    "\n",
    "- Summarise the introduced pipeline in your own words.\n",
    "- Introduce the time complexity of the full introduced pipeline.\n",
    "- Discuss which are the steps having the highest impact on time execution, especially to handle a larger dataset.\n",
    "- Present its strengths and limitations.\n",
    "- Discuss any possible way to improve it. \n"
   ]
  }
 ],
 "metadata": {
  "kernelspec": {
   "display_name": "Python 3 (ipykernel)",
   "language": "python",
   "name": "python3"
  },
  "language_info": {
   "codemirror_mode": {
    "name": "ipython",
    "version": 3
   },
   "file_extension": ".py",
   "mimetype": "text/x-python",
   "name": "python",
   "nbconvert_exporter": "python",
   "pygments_lexer": "ipython3",
   "version": "3.9.13"
  }
 },
 "nbformat": 4,
 "nbformat_minor": 4
}
